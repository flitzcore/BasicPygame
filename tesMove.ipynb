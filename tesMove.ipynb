{
 "cells": [
  {
   "cell_type": "code",
   "execution_count": 2,
   "metadata": {},
   "outputs": [
    {
     "ename": "SystemExit",
     "evalue": "",
     "output_type": "error",
     "traceback": [
      "An exception has occurred, use %tb to see the full traceback.\n",
      "\u001b[31mSystemExit\u001b[39m\n"
     ]
    }
   ],
   "source": [
    "import pygame\n",
    "import sys\n",
    "\n",
    "# Initialize Pygame\n",
    "pygame.init()\n",
    "\n",
    "# Screen settings\n",
    "WIDTH, HEIGHT = 800, 600\n",
    "screen = pygame.display.set_mode((WIDTH, HEIGHT))\n",
    "pygame.display.set_caption(\"Box Movement\")\n",
    "\n",
    "# Colors\n",
    "WHITE = (255, 255, 255)\n",
    "BLUE = (0, 0, 255)\n",
    "\n",
    "# Box settings\n",
    "box_width, box_height = 50, 50\n",
    "box_x = WIDTH // 2 - box_width // 2\n",
    "box_y = HEIGHT // 2 - box_height // 2\n",
    "box_speed = 5\n",
    "\n",
    "# Game loop\n",
    "clock = pygame.time.Clock()\n",
    "running = True\n",
    "while running:\n",
    "    clock.tick(60)  # 60 FPS\n",
    "\n",
    "    for event in pygame.event.get():\n",
    "        if event.type == pygame.QUIT:\n",
    "            running = False\n",
    "\n",
    "    # Key press handling\n",
    "    keys = pygame.key.get_pressed()\n",
    "    if keys[pygame.K_LEFT] or keys[pygame.K_a]:\n",
    "        box_x -= box_speed\n",
    "    if keys[pygame.K_RIGHT] or keys[pygame.K_d]:\n",
    "        box_x += box_speed\n",
    "\n",
    "    # Clamp box_x so it doesn't go out of bounds\n",
    "    box_x = max(0, min(WIDTH - box_width, box_x))\n",
    "\n",
    "    # Fill screen and draw box\n",
    "    screen.fill(WHITE)\n",
    "    pygame.draw.rect(screen, BLUE, (box_x, box_y, box_width, box_height))\n",
    "    pygame.display.flip()\n",
    "\n",
    "pygame.quit()\n",
    "sys.exit()\n"
   ]
  }
 ],
 "metadata": {
  "kernelspec": {
   "display_name": "Python 3",
   "language": "python",
   "name": "python3"
  },
  "language_info": {
   "codemirror_mode": {
    "name": "ipython",
    "version": 3
   },
   "file_extension": ".py",
   "mimetype": "text/x-python",
   "name": "python",
   "nbconvert_exporter": "python",
   "pygments_lexer": "ipython3",
   "version": "3.11.9"
  }
 },
 "nbformat": 4,
 "nbformat_minor": 2
}
