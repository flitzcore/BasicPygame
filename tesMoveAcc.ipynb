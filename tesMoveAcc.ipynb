{
 "cells": [
  {
   "cell_type": "code",
   "execution_count": 3,
   "metadata": {},
   "outputs": [
    {
     "ename": "SystemExit",
     "evalue": "",
     "output_type": "error",
     "traceback": [
      "An exception has occurred, use %tb to see the full traceback.\n",
      "\u001b[31mSystemExit\u001b[39m\n"
     ]
    },
    {
     "name": "stderr",
     "output_type": "stream",
     "text": [
      "/home/lockrr/.pyenv/versions/3.11.9/lib/python3.11/site-packages/IPython/core/interactiveshell.py:3675: UserWarning: To exit: use 'exit', 'quit', or Ctrl-D.\n",
      "  warn(\"To exit: use 'exit', 'quit', or Ctrl-D.\", stacklevel=1)\n"
     ]
    }
   ],
   "source": [
    "import pygame\n",
    "import sys\n",
    "\n",
    "# Initialize Pygame\n",
    "pygame.init()\n",
    "\n",
    "# Screen setup\n",
    "WIDTH, HEIGHT = 800, 600\n",
    "screen = pygame.display.set_mode((WIDTH, HEIGHT))\n",
    "pygame.display.set_caption(\"Box with Acceleration & Velocity Display\")\n",
    "\n",
    "# Font setup\n",
    "pygame.font.init()\n",
    "font = pygame.font.SysFont(None, 30)\n",
    "\n",
    "# Colors\n",
    "WHITE = (255, 255, 255)\n",
    "BLUE = (0, 0, 255)\n",
    "BLACK = (0, 0, 0)\n",
    "\n",
    "# Box settings\n",
    "box_width, box_height = 50, 50\n",
    "box_x = WIDTH // 2 - box_width // 2\n",
    "box_y = HEIGHT // 2 - box_height // 2\n",
    "box_vel_x = 0\n",
    "acceleration = 0.5\n",
    "friction = 0.1\n",
    "max_speed = 7\n",
    "\n",
    "# Game loop\n",
    "clock = pygame.time.Clock()\n",
    "running = True\n",
    "while running:\n",
    "    clock.tick(60)  # 60 FPS\n",
    "\n",
    "    for event in pygame.event.get():\n",
    "        if event.type == pygame.QUIT:\n",
    "            running = False\n",
    "\n",
    "    # Handle keys\n",
    "    keys = pygame.key.get_pressed()\n",
    "    if keys[pygame.K_LEFT] or keys[pygame.K_a]:\n",
    "        box_vel_x -= acceleration\n",
    "    elif keys[pygame.K_RIGHT] or keys[pygame.K_d]:\n",
    "        box_vel_x += acceleration\n",
    "    else:\n",
    "        # Apply friction when no key is pressed\n",
    "        if box_vel_x > 0:\n",
    "            box_vel_x -= friction\n",
    "            if box_vel_x < 0:\n",
    "                box_vel_x = 0\n",
    "        elif box_vel_x < 0:\n",
    "            box_vel_x += friction\n",
    "            if box_vel_x > 0:\n",
    "                box_vel_x = 0\n",
    "\n",
    "    # Limit max speed\n",
    "    # box_vel_x = max(-max_speed, min(max_speed, box_vel_x))\n",
    "\n",
    "    # Update position\n",
    "    box_x += box_vel_x\n",
    "\n",
    "    # Clamp to screen\n",
    "    box_x = max(0, min(WIDTH - box_width, box_x))\n",
    "\n",
    "    # Draw everything\n",
    "    screen.fill(WHITE)\n",
    "    pygame.draw.rect(screen, BLUE, (box_x, box_y, box_width, box_height))\n",
    "        # Draw velocity text\n",
    "    vel_text = font.render(f\"box_vel_x: {box_vel_x:.2f}\", True, BLACK)\n",
    "    screen.blit(vel_text, (10, 10))\n",
    "    pygame.display.flip()\n",
    "\n",
    "pygame.quit()\n",
    "sys.exit()\n"
   ]
  }
 ],
 "metadata": {
  "kernelspec": {
   "display_name": "Python 3",
   "language": "python",
   "name": "python3"
  },
  "language_info": {
   "codemirror_mode": {
    "name": "ipython",
    "version": 3
   },
   "file_extension": ".py",
   "mimetype": "text/x-python",
   "name": "python",
   "nbconvert_exporter": "python",
   "pygments_lexer": "ipython3",
   "version": "3.11.9"
  }
 },
 "nbformat": 4,
 "nbformat_minor": 2
}
